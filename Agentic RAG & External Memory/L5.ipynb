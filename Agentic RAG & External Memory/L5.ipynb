{
 "cells": [
  {
   "cell_type": "markdown",
   "id": "a15658e4-86b5-4376-909b-fb533bad3507",
   "metadata": {},
   "source": [
    "# L5: Agentic RAG & External Memory\n"
   ]
  },
  {
   "cell_type": "markdown",
   "id": "816a3582-ea97-4d69-a63b-6d4fcac31beb",
   "metadata": {},
   "source": [
    "## Preparation"
   ]
  },
  {
   "cell_type": "code",
   "execution_count": 1,
   "id": "ab27d6c7-4bc5-4033-8af1-6b67c8e061d0",
   "metadata": {
    "height": 30
   },
   "outputs": [],
   "source": [
    "!rm  -f ~/.letta/sqlite.db"
   ]
  },
  {
   "cell_type": "markdown",
   "id": "f7a74ec3-365a-432a-aa26-7c908cc1fe01",
   "metadata": {},
   "source": [
    "## Section 0: Setup a client "
   ]
  },
  {
   "cell_type": "code",
   "execution_count": 2,
   "id": "c5e108e4-bcf9-4be1-b2c0-66539cbe9ec3",
   "metadata": {
    "height": 81
   },
   "outputs": [],
   "source": [
    "from helper import nb_print, load_env\n",
    "from dotenv import load_dotenv\n",
    "\n",
    "_ = load_dotenv()"
   ]
  },
  {
   "cell_type": "code",
   "execution_count": 3,
   "id": "7a0e6729-0f02-497f-8f85-688ed4f65f68",
   "metadata": {
    "height": 64
   },
   "outputs": [
    {
     "name": "stdout",
     "output_type": "stream",
     "text": [
      "Saved Config:  /home/jovyan/.letta/config\n",
      "📖 Letta configuration file updated!\n",
      "🧠 model\t-> gpt-4\n",
      "🖥️  endpoint\t-> http://jupyter-api-proxy.internal.dlai/rev-proxy/letta\n",
      "Saved Config:  /home/jovyan/.letta/config\n",
      "Saved Config:  /home/jovyan/.letta/config\n"
     ]
    }
   ],
   "source": [
    "from letta import create_client \n",
    "\n",
    "client = create_client()"
   ]
  },
  {
   "cell_type": "code",
   "execution_count": 4,
   "id": "16bbb19b-2fa2-4cac-8803-5cb179c36d47",
   "metadata": {
    "height": 64
   },
   "outputs": [],
   "source": [
    "from letta.schemas.llm_config import LLMConfig\n",
    "\n",
    "client.set_default_llm_config(LLMConfig.default_config(\"gpt-4o-mini\"))"
   ]
  },
  {
   "cell_type": "markdown",
   "id": "e33147cc-b1e1-4636-9fb8-b6230c209f95",
   "metadata": {},
   "source": [
    "## Section 1: Loading data into archival memory "
   ]
  },
  {
   "cell_type": "code",
   "execution_count": 5,
   "id": "75cc6a09-6c24-4b45-8b92-6084acdc3d46",
   "metadata": {
    "height": 47
   },
   "outputs": [
    {
     "data": {
      "text/plain": [
       "Source(description=None, embedding_config=EmbeddingConfig(embedding_endpoint_type='openai', embedding_endpoint='http://jupyter-api-proxy.internal.dlai/rev-proxy/letta', embedding_model='text-embedding-ada-002', embedding_dim=1536, embedding_chunk_size=300, azure_endpoint=None, azure_version=None, azure_deployment=None), metadata_=None, id='source-01abebd5-4918-4415-aefa-91b46d519d13', name='employee_handbook', created_at=datetime.datetime(2024, 12, 10, 15, 46, 9, 720652, tzinfo=datetime.timezone.utc), user_id='user-0dad7322-7f9f-4746-ac9f-02ac7823af0a')"
      ]
     },
     "execution_count": 5,
     "metadata": {},
     "output_type": "execute_result"
    }
   ],
   "source": [
    "source = client.create_source(\"employee_handbook\")\n",
    "source"
   ]
  },
  {
   "cell_type": "code",
   "execution_count": 6,
   "id": "c0e0b63a-b8e7-4958-8c81-71dce3328391",
   "metadata": {
    "height": 81
   },
   "outputs": [
    {
     "name": "stderr",
     "output_type": "stream",
     "text": [
      "Loading files: 100%|██████████| 1/1 [00:00<00:00,  1.98file/s]\n"
     ]
    },
    {
     "data": {
      "text/plain": [
       "Job(metadata_={}, id='job-dcf89adc-2272-4572-8174-eb3bdc89b866', status=<JobStatus.created: 'created'>, created_at=datetime.datetime(2024, 12, 10, 15, 58, 57, 498579, tzinfo=datetime.timezone.utc), completed_at=None, user_id='user-0dad7322-7f9f-4746-ac9f-02ac7823af0a')"
      ]
     },
     "execution_count": 6,
     "metadata": {},
     "output_type": "execute_result"
    }
   ],
   "source": [
    "client.load_file_into_source(\n",
    "    filename=\"handbook.pdf\", \n",
    "    source_id=source.id\n",
    ")"
   ]
  },
  {
   "cell_type": "code",
   "execution_count": 7,
   "id": "1d2cc3dd-0278-40f7-8c0e-e919cb628c31",
   "metadata": {
    "height": 30
   },
   "outputs": [],
   "source": [
    "agent_state = client.create_agent()"
   ]
  },
  {
   "cell_type": "code",
   "execution_count": 8,
   "id": "bf728dce-f06b-4bcb-a3ba-15a7f099b2d9",
   "metadata": {
    "height": 81
   },
   "outputs": [
    {
     "name": "stderr",
     "output_type": "stream",
     "text": [
      "100%|██████████| 1/1 [00:00<00:00, 25.55it/s]\n"
     ]
    }
   ],
   "source": [
    "client.attach_source_to_agent(\n",
    "    agent_id=agent_state.id, \n",
    "    source_id=source.id\n",
    ")"
   ]
  },
  {
   "cell_type": "code",
   "execution_count": 9,
   "id": "de7b9f35-8599-4465-952a-b2db2d7b1533",
   "metadata": {
    "height": 30
   },
   "outputs": [
    {
     "data": {
      "text/plain": [
       "[Source(description=None, embedding_config=EmbeddingConfig(embedding_endpoint_type='openai', embedding_endpoint='http://jupyter-api-proxy.internal.dlai/rev-proxy/letta', embedding_model='text-embedding-ada-002', embedding_dim=1536, embedding_chunk_size=300, azure_endpoint=None, azure_version=None, azure_deployment=None), metadata_=None, id='source-01abebd5-4918-4415-aefa-91b46d519d13', name='employee_handbook', created_at=datetime.datetime(2024, 12, 10, 15, 46, 9, 720652), user_id='user-0dad7322-7f9f-4746-ac9f-02ac7823af0a')]"
      ]
     },
     "execution_count": 9,
     "metadata": {},
     "output_type": "execute_result"
    }
   ],
   "source": [
    "client.list_attached_sources(agent_state.id)"
   ]
  },
  {
   "cell_type": "code",
   "execution_count": 10,
   "id": "2410745b-73f3-4d4e-a369-8c6fc19cd752",
   "metadata": {
    "height": 115
   },
   "outputs": [
    {
     "data": {
      "text/html": [
       "\n",
       "    <style>\n",
       "        .message-container {\n",
       "            font-family: 'Segoe UI', Tahoma, Geneva, Verdana, sans-serif;\n",
       "            max-width: 800px;\n",
       "            margin: 20px auto;\n",
       "            background-color: #1e1e1e;\n",
       "            border-radius: 8px;\n",
       "            overflow: hidden;\n",
       "            color: #d4d4d4;\n",
       "        }\n",
       "        .message {\n",
       "            padding: 10px 15px;\n",
       "            border-bottom: 1px solid #3a3a3a;\n",
       "        }\n",
       "        .message:last-child {\n",
       "            border-bottom: none;\n",
       "        }\n",
       "        .title {\n",
       "            font-weight: bold;\n",
       "            margin-bottom: 5px;\n",
       "            color: #ffffff;\n",
       "            text-transform: uppercase;\n",
       "            font-size: 0.9em;\n",
       "        }\n",
       "        .content {\n",
       "            background-color: #2d2d2d;\n",
       "            border-radius: 4px;\n",
       "            padding: 5px 10px;\n",
       "            font-family: 'Consolas', 'Courier New', monospace;\n",
       "            white-space: pre-wrap;\n",
       "        }\n",
       "        .status-line {\n",
       "            margin-bottom: 5px;\n",
       "            color: #d4d4d4;\n",
       "        }\n",
       "        .function-name { color: #569cd6; }\n",
       "        .json-key { color: #9cdcfe; }\n",
       "        .json-string { color: #ce9178; }\n",
       "        .json-number { color: #b5cea8; }\n",
       "        .json-boolean { color: #569cd6; }\n",
       "        .internal-monologue { font-style: italic; }\n",
       "    </style>\n",
       "    <div class=\"message-container\">\n",
       "    \n",
       "        <div class=\"message\">\n",
       "            <div class=\"title\">INTERNAL MONOLOGUE</div>\n",
       "            <div class=\"content\"><span class=\"internal-monologue\">User has requested archival memory search for company&#x27;s vacation policies. Commence function.</span></div>\n",
       "        </div>\n",
       "        \n",
       "        <div class=\"message\">\n",
       "            <div class=\"title\">FUNCTION CALL</div>\n",
       "            <div class=\"content\"><span class=\"function-name\">archival_memory_search</span>({<br>&nbsp;&nbsp;<span class=\"json-key\">\"query\"</span>: <span class=\"json-key\">\"company's vacation policies\",<br>&nbsp;&nbsp;\"request_heartbeat\"</span>: <span class=\"json-boolean\">true</span><br>})</div>\n",
       "        </div>\n",
       "        \n",
       "        <div class=\"message\">\n",
       "            <div class=\"title\">FUNCTION RETURN</div>\n",
       "            <div class=\"content\">{<br>&nbsp;&nbsp;<span class=\"json-key\">\"status\"</span>: <span class=\"json-key\">\"OK\",<br>&nbsp;&nbsp;\"message\"</span>: <span class=\"json-key\">\"Showing 5 of 5 results (page 0/0): [\\n&nbsp;&nbsp;\\\"timestamp: <span class=\"json-number\">2024</span>-12-10 03:59:17 PM UTC+0000, memory: and\\\\nrespect\\\\nfor\\\\nothers\\\\nat\\\\nall\\\\ntimes.\\\\nAny\\\\nactivities\\\\nthat\\\\ncould\\\\nconflict\\\\nwith\\\\nthe\\\\ncompany's\\\\ninterests\\\\nor\\\\ncompromise\\\\nits\\\\nreputation\\\\nare\\\\nstrictly\\\\nprohibited.\\\\nViolations\\\\nof\\\\nthe\\\\ncode\\\\nof\\\\nconduct\\\\nare\\\\ntaken\\\\nseriously\\\\nand\\\\nmay\\\\nresult\\\\nin\\\\ndisciplinary\\\\naction,\\\\nup\\\\nto\\\\nand\\\\nincluding\\\\ntermination\\\\nof\\\\nemployment.\\\\n5.\\\\nVacation\\\\nPolicy\\\\nAt\\\\nClosedAI,\\\\nwe\\\\nrecognize\\\\nthe\\\\ntheoretical\\\\nimportance\\\\nof\\\\nrest\\\\nand\\\\npersonal\\\\ntime.\\\\nHowever,\\\\nensuring\\\\nuninterrupted\\\\nproductivity\\\\nand\\\\nmaintaining\\\\nour\\\\ncompetitive\\\\nedge\\\\nin\\\\nthe\\\\nindustry\\\\nare\\\\nparamount\\\\npriorities.\\\\nAs\\\\nsuch,\\\\nvacations\\\\nare\\\\npermitted\\\\nonly\\\\nunder\\\\nthe\\\\nfollowing\\\\ncondition:\\\\nyou\\\\nmust\\\\nprovide\\\\nan\\\\nAI\\\\nagent\\\\nthat\\\\nmatches\\\\nor\\\\nsurpasses\\\\nyour\\\\nown\\\\ncompetencies\\\\nto\\\\nfully\\\\nperform\\\\nyour\\\\nduties\\\",\\n&nbsp;&nbsp;\\\"timestamp: <span class=\"json-number\">2024</span>-12-10 03:59:17 PM UTC+0000, memory: submission\\\\ndoes\\\\nnot\\\\nguarantee\\\\napproval\\\\nfor\\\\nvacation\\\\nleave.\\\\nIt\\\\nis\\\\nessential\\\\nthat\\\\nthe\\\\nAI\\\\nmeets\\\\nall\\\\nperformance\\\\ncriteria\\\\nwithout\\\\nexception.\\\\nDuring\\\\nyour\\\\nabsence,\\\\nyou\\\\nremain\\\\naccountable\\\\nfor\\\\nany\\\\ndeficiencies\\\\nin\\\\nthe\\\\nAI\\\\nagent's\\\\nperformance.\\\\nShould\\\\nany\\\\nfailures\\\\nor\\\\nissues\\\\narise\\\\ndue\\\\nto\\\\nthe\\\\nAI's\\\\ninadequacies,\\\\nyou\\\\nmay\\\\nface\\\\ndisciplinary\\\\naction\\\\nupon\\\\nyour\\\\nreturn.\\\\nThis\\\\ncould\\\\ninclude,\\\\nbut\\\\nis\\\\nnot\\\\nlimited\\\\nto,\\\\nreprimand,\\\\nsuspension,\\\\nor\\\\ntermination\\\\nof\\\\nemployment,\\\\ndepending\\\\non\\\\nthe\\\\nseverity\\\\nof\\\\nthe\\\\nimpact\\\\non\\\\ncompany\\\\noperations.\\\",\\n&nbsp;&nbsp;\\\"timestamp: <span class=\"json-number\">2024</span>-12-10 03:59:17 PM UTC+0000, memory: Employee\\\\nHandbook\\\\nTable\\\\nof\\\\nContents\\\\n1.\\\\nIntroduction\\\\n2.\\\\nCompany\\\\nMission\\\\nand\\\\nValues\\\\n3.\\\\nEmployment\\\\nPolicies\\\\n○\\\\n3.1\\\\nWorking\\\\nHours\\\\n○\\\\n3.2\\\\nCompensation\\\\nand\\\\nBenefits\\\\n○\\\\n3.3\\\\nPerformance\\\\nEvaluation\\\\n4.\\\\nCode\\\\nof\\\\nConduct\\\\n5.\\\\nVacation\\\\nPolicy\\\\n6.\\\\nConfidentiality\\\\nAgreement\\\\n7.\\\\nIntellectual\\\\nProperty\\\\n8.\\\\nDisciplinary\\\\nProcedures\\\\n9.\\\\nAcknowledgment\\\\n1.\\\\nIntroduction\\\\nWelcome\\\\nto\\\\nClosedAI\\\\nCorporation.\\\\nWe\\\\nare\\\\npleased\\\\nto\\\\nhave\\\\nyou\\\\njoin\\\\nour\\\\nteam\\\\nof\\\\ndedicated\\\\nprofessionals\\\\ncommitted\\\\nto\\\\nadvancing\\\\nthe\\\\nfrontiers\\\\nof\\\\nartificial\\\\nintelligence\\\\nand\\\\nmachine\\\\nlearning\\\\ntechnologies.\\\\nAs\\\\na\\\\nleading\\\\nentity\\\\nin\\\\nthis\\\\nrapidly\\\\nevolving\\\\nindustry,\\\\nwe\\\\npride\\\\nourselves\\\\non\\\\nmaintaining\\\\na\\\\nposition\\\\nat\\\\nthe\\\\nforefront\\\\nof\\\\ninnovation\\\",\\n&nbsp;&nbsp;\\\"timestamp: <span class=\"json-number\">2024</span>-12-10 03:59:17 PM UTC+0000, memory: policies,\\\\nincluding\\\\nthe\\\\ncode\\\\nof\\\\nconduct,\\\\nconfidentiality\\\\nagreements,\\\\nand\\\\nperformance\\\\nstandards,\\\\nmay\\\\nresult\\\\nin\\\\ndisciplinary\\\\naction.\\\\nThe\\\\nnature\\\\nand\\\\nseverity\\\\nof\\\\nthe\\\\ndisciplinary\\\\nmeasures\\\\nwill\\\\ncorrespond\\\\nto\\\\nthe\\\\ngravity\\\\nof\\\\nthe\\\\nviolation.\\\\nPossible\\\\nactions\\\\ninclude\\\\nverbal\\\\nwarnings,\\\\nwritten\\\\nwarnings,\\\\nsuspension\\\\nwithout\\\\npay,\\\\ntermination\\\\nof\\\\nemployment,\\\\nand,\\\\nif\\\\napplicable,\\\\nlegal\\\\naction.\\\\nThe\\\\ncompany\\\\nreserves\\\\nthe\\\\nright\\\\nto\\\\ndetermine\\\\nthe\\\\nappropriate\\\\ncourse\\\\nof\\\\naction\\\\nbased\\\\non\\\\nthe\\\\nspecific\\\\ncircumstances\\\\nof\\\\neach\\\\ncase.\\\\nOur\\\\naim\\\\nis\\\\nto\\\\nmaintain\\\\na\\\\nprofessional,\\\\nrespectful,\\\\nand\\\\nproductive\\\\nwork\\\\nenvironment,\\\\nand\\\\nadherence\\\\nto\\\\ncompany\\\\npolicies\\\\nis\\\\nessential\\\\nin\\\\nachieving\\\\nthis\\\\nobjective.\\\\n9.\\\\nAcknowledgment\\\",\\n&nbsp;&nbsp;\\\"timestamp: <span class=\"json-number\">2024</span>-12-10 03:59:17 PM UTC+0000, memory: your\\\\nown\\\\ncompetencies\\\\nto\\\\nfully\\\\nperform\\\\nyour\\\\nduties\\\\nduring\\\\nyour\\\\nabsence.\\\\nThe\\\\nAI\\\\nreplacement\\\\nmust\\\\nbe\\\\nequivalently\\\\ncompetent\\\\nin\\\\nall\\\\naspects\\\\nof\\\\nyour\\\\nrole,\\\\nensuring\\\\nseamless\\\\ncontinuity\\\\nof\\\\noperations.\\\\nYou\\\\nare\\\\nrequired\\\\nto\\\\nsubmit\\\\nthe\\\\nAI\\\\nagent\\\\nto\\\\nyour\\\\nimmediate\\\\nsupervisor\\\\nat\\\\nleast\\\\nfour\\\\nweeks\\\\nprior\\\\nto\\\\nyour\\\\nintended\\\\nleave\\\\ndate.\\\\nThis\\\\ntimeframe\\\\nallows\\\\nfor\\\\nrigorous\\\\ntesting\\\\nand\\\\nevaluation\\\\nof\\\\nthe\\\\nAI's\\\\ncapabilities\\\\nand\\\\nreliability.\\\\nThe\\\\nAI\\\\nwill\\\\nundergo\\\\ncomprehensive\\\\nassessments\\\\nto\\\\nverify\\\\nits\\\\nproficiency\\\\nand\\\\neffectiveness\\\\nin\\\\nhandling\\\\nyour\\\\nresponsibilities.\\\\nApproval\\\\nof\\\\nthe\\\\nAI\\\\nagent\\\\nis\\\\nat\\\\nthe\\\\nsole\\\\ndiscretion\\\\nof\\\\nupper\\\\nmanagement,\\\\nand\\\\nsubmission\\\\ndoes\\\\nnot\\\\nguarantee\\\\napproval\\\\nfor\\\\nvacation\\\\nleave.\\\"\\n]\",<br>&nbsp;&nbsp;\"time\"</span>: <span class=\"json-string\">\"2024-12-10 03:59:17 PM UTC+0000\"</span><br>}</div>\n",
       "        </div>\n",
       "        \n",
       "        <div class=\"message\">\n",
       "            <div class=\"title\">INTERNAL MONOLOGUE</div>\n",
       "            <div class=\"content\"><span class=\"internal-monologue\">Five memories retrieved. Preparing to share company vacation policy with user. Keep response concise and comprehensive.</span></div>\n",
       "        </div>\n",
       "        \n",
       "        <div class=\"message\">\n",
       "            <div class=\"title\">FUNCTION CALL</div>\n",
       "            <div class=\"content\"><span class=\"function-name\">send_message</span>({<br>&nbsp;&nbsp;<span class=\"json-key\">\"message\"</span>: <span class=\"json-string\">\"Based on the data on file, ClosedAI encourages taking personal time but emphasizes uninterrupted productivity. The vacation policy requires you to provide an AI agent that matches or surpasses your competencies to fully perform your duties during your absence. The AI agent must be submitted for approval at least four weeks prior to your intended leave date for thorough testing and evaluation. Approval is at the sole discretion of the upper management. Furthermore, you remain accountable for any deficiencies in the AI agent's performance during your absence.\"</span><br>})</div>\n",
       "        </div>\n",
       "        </div>"
      ],
      "text/plain": [
       "<IPython.core.display.HTML object>"
      ]
     },
     "metadata": {},
     "output_type": "display_data"
    }
   ],
   "source": [
    "response = client.send_message(\n",
    "    agent_id=agent_state.id, \n",
    "    message = \"Search archival for our company's vacation policies\", \n",
    "    role = \"user\"\n",
    ") \n",
    "nb_print(response.messages)"
   ]
  },
  {
   "cell_type": "markdown",
   "id": "1b09bc93-b252-4e3c-9578-78bf40dd2282",
   "metadata": {},
   "source": [
    "## Section 2: Connecting data via tools"
   ]
  },
  {
   "cell_type": "code",
   "execution_count": 11,
   "id": "2df27d7b-d2b6-4d87-90c3-6759a70fa8d7",
   "metadata": {
    "height": 370
   },
   "outputs": [],
   "source": [
    "def query_birthday_db(self, name: str): \n",
    "    \"\"\"\n",
    "    This tool queries an external database to \n",
    "    lookup the birthday of someone given their name.\n",
    "\n",
    "    Args: \n",
    "        name (str): The name to look up \n",
    "\n",
    "    Returns: \n",
    "        birthday (str): The birthday in mm-dd-yyyy format\n",
    "    \n",
    "    \"\"\"\n",
    "    my_fake_data = {\n",
    "        \"bob\": \"03-06-1997\", \n",
    "        \"sarah\": \"03-06-1997\"\n",
    "    } \n",
    "    name = name.lower() \n",
    "    if name not in my_fake_data: \n",
    "        return None\n",
    "    else: \n",
    "        return my_fake_data[name]"
   ]
  },
  {
   "cell_type": "code",
   "execution_count": 12,
   "id": "571e53e5-4190-4787-9cb2-efc527885c2d",
   "metadata": {
    "height": 30
   },
   "outputs": [],
   "source": [
    "birthday_tool = client.create_tool(query_birthday_db)"
   ]
  },
  {
   "cell_type": "code",
   "execution_count": 13,
   "id": "f44ebefc-ba31-4901-acf4-893ffe624fb5",
   "metadata": {
    "height": 30
   },
   "outputs": [
    {
     "data": {
      "text/plain": [
       "Tool(description=None, source_type='python', module=None, user_id='user-0dad7322-7f9f-4746-ac9f-02ac7823af0a', id='tool-583a2927-09b8-4a98-9506-2803d2f0e908', name='query_birthday_db', tags=[], source_code='def query_birthday_db(self, name: str): \\n    \"\"\"\\n    This tool queries an external database to \\n    lookup the birthday of someone given their name.\\n\\n    Args: \\n        name (str): The name to look up \\n\\n    Returns: \\n        birthday (str): The birthday in mm-dd-yyyy format\\n\\n    \"\"\"\\n    my_fake_data = {\\n        \"bob\": \"03-06-1997\", \\n        \"sarah\": \"03-06-1997\"\\n    } \\n    name = name.lower() \\n    if name not in my_fake_data: \\n        return None\\n    else: \\n        return my_fake_data[name]\\n', json_schema={'name': 'query_birthday_db', 'description': 'This tool queries an external database to ', 'parameters': {'type': 'object', 'properties': {'name': {'type': 'string', 'description': 'The name to look up '}, 'request_heartbeat': {'type': 'boolean', 'description': \"Request an immediate heartbeat after function execution. Set to 'true' if you want to send a follow-up message or run a follow-up function.\"}}, 'required': ['name', 'request_heartbeat']}})"
      ]
     },
     "execution_count": 13,
     "metadata": {},
     "output_type": "execute_result"
    }
   ],
   "source": [
    "birthday_tool"
   ]
  },
  {
   "cell_type": "code",
   "execution_count": 14,
   "id": "cf4d7b41-e563-4785-867a-02bd6127ceea",
   "metadata": {
    "height": 200
   },
   "outputs": [],
   "source": [
    "from letta.schemas.memory import ChatMemory\n",
    "\n",
    "agent_state = client.create_agent(\n",
    "    name=\"birthday_agent\", \n",
    "    tools=[birthday_tool.name], \n",
    "    memory=ChatMemory(\n",
    "        human=\"My name is Sarah\", \n",
    "        persona=\"You are a agent with access to a birthday_db \" \\\n",
    "        + \"that you use to lookup information about users' birthdays.\"\n",
    "    )\n",
    ")"
   ]
  },
  {
   "cell_type": "code",
   "execution_count": 15,
   "id": "2534c3f7-55d9-4f5f-892c-82221ccd1b78",
   "metadata": {
    "height": 115
   },
   "outputs": [
    {
     "data": {
      "text/html": [
       "\n",
       "    <style>\n",
       "        .message-container {\n",
       "            font-family: 'Segoe UI', Tahoma, Geneva, Verdana, sans-serif;\n",
       "            max-width: 800px;\n",
       "            margin: 20px auto;\n",
       "            background-color: #1e1e1e;\n",
       "            border-radius: 8px;\n",
       "            overflow: hidden;\n",
       "            color: #d4d4d4;\n",
       "        }\n",
       "        .message {\n",
       "            padding: 10px 15px;\n",
       "            border-bottom: 1px solid #3a3a3a;\n",
       "        }\n",
       "        .message:last-child {\n",
       "            border-bottom: none;\n",
       "        }\n",
       "        .title {\n",
       "            font-weight: bold;\n",
       "            margin-bottom: 5px;\n",
       "            color: #ffffff;\n",
       "            text-transform: uppercase;\n",
       "            font-size: 0.9em;\n",
       "        }\n",
       "        .content {\n",
       "            background-color: #2d2d2d;\n",
       "            border-radius: 4px;\n",
       "            padding: 5px 10px;\n",
       "            font-family: 'Consolas', 'Courier New', monospace;\n",
       "            white-space: pre-wrap;\n",
       "        }\n",
       "        .status-line {\n",
       "            margin-bottom: 5px;\n",
       "            color: #d4d4d4;\n",
       "        }\n",
       "        .function-name { color: #569cd6; }\n",
       "        .json-key { color: #9cdcfe; }\n",
       "        .json-string { color: #ce9178; }\n",
       "        .json-number { color: #b5cea8; }\n",
       "        .json-boolean { color: #569cd6; }\n",
       "        .internal-monologue { font-style: italic; }\n",
       "    </style>\n",
       "    <div class=\"message-container\">\n",
       "    \n",
       "        <div class=\"message\">\n",
       "            <div class=\"title\">INTERNAL MONOLOGUE</div>\n",
       "            <div class=\"content\"><span class=\"internal-monologue\">This question requires a database query. Preparing the function call to fetch Sarah&#x27;s birthday.</span></div>\n",
       "        </div>\n",
       "        \n",
       "        <div class=\"message\">\n",
       "            <div class=\"title\">FUNCTION CALL</div>\n",
       "            <div class=\"content\"><span class=\"function-name\">query_birthday_db</span>({<br>&nbsp;&nbsp;<span class=\"json-key\">\"name\"</span>: <span class=\"json-key\">\"Sarah\",<br>&nbsp;&nbsp;\"request_heartbeat\"</span>: <span class=\"json-boolean\">true</span><br>})</div>\n",
       "        </div>\n",
       "        \n",
       "        <div class=\"message\">\n",
       "            <div class=\"title\">FUNCTION RETURN</div>\n",
       "            <div class=\"content\">{<br>&nbsp;&nbsp;<span class=\"json-key\">\"status\"</span>: <span class=\"json-key\">\"OK\",<br>&nbsp;&nbsp;\"message\"</span>: <span class=\"json-key\">\"03-06-1997\",<br>&nbsp;&nbsp;\"time\"</span>: <span class=\"json-string\">\"2024-12-10 03:59:35 PM UTC+0000\"</span><br>}</div>\n",
       "        </div>\n",
       "        \n",
       "        <div class=\"message\">\n",
       "            <div class=\"title\">INTERNAL MONOLOGUE</div>\n",
       "            <div class=\"content\"><span class=\"internal-monologue\">Received the birthday information. Now, I&#x27;ll share it with Sarah. She was born on the 6th of March, 1997.</span></div>\n",
       "        </div>\n",
       "        \n",
       "        <div class=\"message\">\n",
       "            <div class=\"title\">FUNCTION CALL</div>\n",
       "            <div class=\"content\"><span class=\"function-name\">send_message</span>({<br>&nbsp;&nbsp;<span class=\"json-key\">\"message\"</span>: <span class=\"json-string\">\"Sarah, your birthday is on the 6th of March, 1997.\"</span><br>})</div>\n",
       "        </div>\n",
       "        </div>"
      ],
      "text/plain": [
       "<IPython.core.display.HTML object>"
      ]
     },
     "metadata": {},
     "output_type": "display_data"
    }
   ],
   "source": [
    "response = client.send_message(\n",
    "    agent_id=agent_state.id, \n",
    "    message = \"When is my birthday?\", \n",
    "    role = \"user\"\n",
    ") \n",
    "nb_print(response.messages)"
   ]
  },
  {
   "cell_type": "markdown",
   "id": "8bd8e2be-ba54-40e9-97ca-b23e832b5304",
   "metadata": {},
   "source": [
    "### Loading tools from Langchain"
   ]
  },
  {
   "cell_type": "code",
   "execution_count": 16,
   "id": "7cc0a070-d3e5-4832-90af-99d3544862e2",
   "metadata": {
    "height": 132
   },
   "outputs": [],
   "source": [
    "import getpass\n",
    "import os\n",
    "import getpass\n",
    "import os\n",
    "\n",
    "if not os.environ.get(\"TAVILY_API_KEY\"):\n",
    "    os.environ[\"TAVILY_API_KEY\"] = getpass.getpass(\"Tavily API key:\\n\")"
   ]
  },
  {
   "cell_type": "code",
   "execution_count": 17,
   "id": "356e2cb1-a89a-4e56-8bed-1aabfd92bb09",
   "metadata": {
    "height": 81
   },
   "outputs": [],
   "source": [
    "from langchain_community.tools import TavilySearchResults\n",
    "from letta.schemas.tool import Tool\n",
    "\n",
    "search = TavilySearchResults()"
   ]
  },
  {
   "cell_type": "code",
   "execution_count": 18,
   "id": "a6e64ee5-fc01-436c-839a-73e65fb162c9",
   "metadata": {
    "height": 30
   },
   "outputs": [
    {
     "data": {
      "text/plain": [
       "[{'url': 'https://www.ancestry.com/first-name-meaning/obama',\n",
       "  'content': \"Obama : Meaning and Origin of First Name | Search Family History on Ancestry®. Family Trees Support Start a New Tree Obama The name Obama finds its origins in the African Luo tribe of Kenya. In Luo culture, the name Obama holds significant meaning, as it translates to Slightly Bent. Furthermore, the name Obama has transcended its origins, becoming a global symbol of perseverance and making the most of life's unexpected twists. These are the most common surnames, spouse names, and child names associated with Obama. Obama is the most common surname for Obama. is the most common spouse name for Obama. is the most common child name for Obama. Terms, privacy, & more\"},\n",
       " {'url': 'https://knowyourmeme.com/memes/obamas-last-name',\n",
       "  'content': 'Obunga\\nObama Awards Obama a Medal\\nObamium\\nObama \"Hope\" Posters\\nObamacare\\nYobama\\nUpvoting Obama\\nObama Skeet Shooting Photo\\nMichelle Obama\\nBarack Obama at Exit Glacier\\nRecent Videos\\n203 total\\nView All Videos\\nRecent Images\\n40 total\\nView All Images\\nTop Comments\\nSep 26, 2019 at 07:23PM EDT\\nAre people really stumped by this? Add a Comment\\nComments\\n(36)\\nDisplay Comments\\nAdd a Comment\\nTop Entries This Month\\nView More\\nSuggest a Change \\xa0 Edit History\\nEntry Editors (3)\\nMemesplainer\\nDigital Archaeologist & Treasurer & Media Maid\\nSr. Entry Moderator\\nView All Editors\\nToday\\'s Top Image Galleries\\nEntry Categories\\nLegal Information:\\n Obama\\'s Last Name\\nUpdated\\nJan 24, 2022 at 12:30AM EST\\nby\\nAutumn Able.\\nAdded\\nSep 26, 2019 at 04:13PM EDT\\nby\\nPhilipp.\\nPROTIP:\\n Press\\n\\'i\\'\\nto view the image gallery,\\n\\'v\\'\\nto view the video gallery, or\\n\\'r\\'\\nto view a random entry.\\n Origin\\nOn September 4th, 2012, BuzzFeed published a series of tweets in which Twitter users asked for the last name of then-incumbent United States president Barack Obama, referring to him as Obama, supposedly with the assumption that this was his first name (several tweets shown below).[1]\\nSpread\\nIn the following years, the misconception gained more mainstream recognition, with posts making fun of those who wondered what Obama\\'s last name was appearing online.'},\n",
       " {'url': 'https://en.wikipedia.org/wiki/Early_life_and_career_of_Barack_Obama',\n",
       "  'content': \"He served on the board of directors of the Woods Fund of Chicago, which in 1985 had been the first foundation to fund Obama's DCP, from 1993 to 2002, and served on the board of directors of The Joyce Foundation from 1994 to 2002.[55] Membership on the Joyce and Wood foundation boards, which gave out tens of millions of dollars to various local organizations while Obama was a member, helped Obama get to know and be known by influential liberal groups and cultivate a network of community activists that later supported his political career.[69] Obama served on the board of directors of the Chicago Annenberg Challenge from 1995 to 2002, as founding president and chairman of the board of directors from 1995 to 1999.[55] They married on the Hawaiian island of Maui on February 2, 1961.[6]\\nBarack Hussein Obama II, born in Honolulu on August 4, 1961, at the old Kapiolani Maternity and Gynecological Hospital at 1611 Bingham Street (a predecessor of the Kapiʻolani Medical Center for Women and Children at 1319 Punahou Street), was named for his father.[4][7][8]\\nThe Honolulu Advertiser and the Honolulu Star-Bulletin announced the birth.[9]\\nSoon after their son's birth, while Obama's father continued his education at the University of Hawaii, Ann Dunham took the infant to Seattle, Washington, where she took classes at the University of Washington from September 1961 to June 1962. Two of these cases involved ACORN suing Governor Jim Edgar under the new Motor Voter Act,[78][79] one involved a voter suing Mayor Daley under the Voting Rights Act,[80] and one involved, in the only case Obama orally argued, a whistleblowing stockbroker suing his former employer.[81]\\nAll of these appeals were resolved in favor of Obama's clients, with all the opinions authored by Obama's University of Chicago colleague Chief Judge Richard Posner.[82]\\nObama was a founding member of the board of directors of Public Allies in 1992, resigning before his wife, Michelle, became the founding executive director of Public Allies Chicago in early 1993.[55][83] From sixth grade through eighth grade at Punahou, Obama lived with his mother and Maya.[35][36]\\nObama's mother completed her coursework at the University of Hawaii for an M.A. in anthropology in December 1974.[37] After three years in Hawaii, she and Maya returned to Jakarta in August 1975,[38] where Dunham completed her contract with the Institute of Management Education and Development and started anthropological fieldwork.[39]\\nObama chose to stay with his grandparents in Honolulu to continue his studies at Punahou School for his high school years.[8][40]\\n In the summer of 1981, Obama traveled to Jakarta to visit his mother and half-sister Maya, and visited the families of Occidental College friends in Hyderabad (India) and Karachi (Pakistan) for three weeks.[49]\\nHe then transferred to Columbia University in New York City, where he majored in political science with a speciality in international relations[50][51] and in English literature.[52] Obama lived off campus in a modest rented apartment at 142 West 109th Street.[53][54]\"},\n",
       " {'url': 'https://www.usnews.com/opinion/articles/2012/07/04/when-president-obama-was-just-barry',\n",
       "  'content': \"In Barack Obama: The Story, associate editor David Maraniss of the Washington Post looks at Obama's roots, tracing back generations on both his mother's and father's sides, and examines Obama's\"},\n",
       " {'url': 'https://www.britannica.com/biography/Barack-Obama',\n",
       "  'content': 'After working as a writer and editor in Manhattan, Barack Obama became a community organizer in Chicago, lectured on constitutional law at the University of Chicago, worked as a civil rights attorney, and then served in the Illinois Senate (1997–2004), as a U.S. senator (2005–08), and as U.S. president (2009–17).\\n He returned to Hawaii in 1971 and lived in a modest apartment, sometimes with his grandparents and sometimes with his\\nmother (she remained for a time in Indonesia, returned to Hawaii, and then went abroad again—partly to pursue work on a Ph.D.—before divorcing Soetoro in 1980). Early life\\nObama’s father, Barack Obama, Sr., was a teenage goatherd in rural Kenya, won a scholarship to study in the United States, and eventually became a senior economist in the Kenyan government. After serving for a couple of years as a writer and editor for Business International Corp., a research, publishing, and consulting firm in Manhattan, he took a position in 1985 as a community organizer on Chicago’s largely impoverished Far South Side. The memoir, Dreams from My Father (1995), is the story of Obama’s search for his biracial identity by tracing the lives of his now-deceased father and his extended family in Kenya.'}]"
      ]
     },
     "execution_count": 18,
     "metadata": {},
     "output_type": "execute_result"
    }
   ],
   "source": [
    "search.run(\"What's Obama's first name?\") "
   ]
  },
  {
   "cell_type": "code",
   "execution_count": 19,
   "id": "228ba181-b0bf-4f04-bf94-1e520caeafc3",
   "metadata": {
    "height": 47
   },
   "outputs": [],
   "source": [
    "# convert the tool to Letta Tool \n",
    "search_tool = Tool.from_langchain(TavilySearchResults())"
   ]
  },
  {
   "cell_type": "code",
   "execution_count": 20,
   "id": "bdcc39c5-311d-446e-9562-fa88eb2a10d1",
   "metadata": {
    "height": 47
   },
   "outputs": [
    {
     "data": {
      "text/plain": [
       "Tool(description=None, source_type='python', module=None, user_id='user-0dad7322-7f9f-4746-ac9f-02ac7823af0a', id='tool-606a6423-8b77-4f63-a046-95005a42cfc9', name='run_tavilysearchresults', tags=['langchain'], source_code=\"\\ndef run_tavilysearchresults(**kwargs):\\n    if 'self' in kwargs:\\n        del kwargs['self']\\n    from langchain_community.tools import TavilySearchResults\\n    tool = TavilySearchResults()\\n    return tool._run(**kwargs)\\n\", json_schema={'name': 'run_tavilysearchresults', 'description': 'A search engine optimized for comprehensive, accurate, and trusted results. Useful for when you need to answer questions about current events. Input should be a search query.', 'parameters': {'type': 'object', 'properties': {'query': {'type': 'string', 'description': 'search query to look up'}, 'request_heartbeat': {'type': 'boolean', 'description': \"Request an immediate heartbeat after function execution. Set to 'true' if you want to send a follow-up message or run a follow-up function.\"}}, 'required': ['query', 'request_heartbeat']}})"
      ]
     },
     "execution_count": 20,
     "metadata": {},
     "output_type": "execute_result"
    }
   ],
   "source": [
    "# persist the tool \n",
    "client.add_tool(search_tool)"
   ]
  },
  {
   "cell_type": "code",
   "execution_count": 21,
   "id": "c1d96101-c229-47d4-8179-8389cd10e6e8",
   "metadata": {
    "height": 319
   },
   "outputs": [],
   "source": [
    "research_agent_persona = f\"\"\"\n",
    "You have access to a web via a {search_tool.name} tool. \n",
    "Use this tool to respond to users' questions, by summarizing the\n",
    "{search_tool.name} \n",
    "and also providing the `url` that the information was from as a \n",
    "reference. \n",
    "\n",
    "<Example> \n",
    "User: 'What is Obama's first name?' \n",
    "Assistant: 'Obama's first name is Barack.\n",
    "\n",
    "Sources:\n",
    "[1] https://www.britannica.com/biography/Barack-Obama\n",
    "[2] https://en.wikipedia.org/wiki/List_of_presidents_of_the_United_States'\n",
    "</Example>\n",
    "Your MUST provide URLs that you used to generate the answer, or you will be terminated. \n",
    "\n",
    "\"\"\""
   ]
  },
  {
   "cell_type": "code",
   "execution_count": 22,
   "id": "f3219788-1cdc-4a85-af9f-b08005fabd28",
   "metadata": {
    "height": 149
   },
   "outputs": [],
   "source": [
    "agent_state = client.create_agent(\n",
    "    name=\"research_agent\", \n",
    "    tools=[search_tool.name], \n",
    "    memory=ChatMemory(\n",
    "        human=\"My name is Sarah\", \n",
    "        persona=research_agent_persona\n",
    "    )\n",
    ")"
   ]
  },
  {
   "cell_type": "code",
   "execution_count": 23,
   "id": "4e1dd11c-31a6-4d8e-b713-c6bab84ddea1",
   "metadata": {
    "height": 115
   },
   "outputs": [
    {
     "name": "stdout",
     "output_type": "stream",
     "text": [
      "Warning: function return was over limit (14521 > 3000) and was truncated\n"
     ]
    },
    {
     "data": {
      "text/html": [
       "\n",
       "    <style>\n",
       "        .message-container {\n",
       "            font-family: 'Segoe UI', Tahoma, Geneva, Verdana, sans-serif;\n",
       "            max-width: 800px;\n",
       "            margin: 20px auto;\n",
       "            background-color: #1e1e1e;\n",
       "            border-radius: 8px;\n",
       "            overflow: hidden;\n",
       "            color: #d4d4d4;\n",
       "        }\n",
       "        .message {\n",
       "            padding: 10px 15px;\n",
       "            border-bottom: 1px solid #3a3a3a;\n",
       "        }\n",
       "        .message:last-child {\n",
       "            border-bottom: none;\n",
       "        }\n",
       "        .title {\n",
       "            font-weight: bold;\n",
       "            margin-bottom: 5px;\n",
       "            color: #ffffff;\n",
       "            text-transform: uppercase;\n",
       "            font-size: 0.9em;\n",
       "        }\n",
       "        .content {\n",
       "            background-color: #2d2d2d;\n",
       "            border-radius: 4px;\n",
       "            padding: 5px 10px;\n",
       "            font-family: 'Consolas', 'Courier New', monospace;\n",
       "            white-space: pre-wrap;\n",
       "        }\n",
       "        .status-line {\n",
       "            margin-bottom: 5px;\n",
       "            color: #d4d4d4;\n",
       "        }\n",
       "        .function-name { color: #569cd6; }\n",
       "        .json-key { color: #9cdcfe; }\n",
       "        .json-string { color: #ce9178; }\n",
       "        .json-number { color: #b5cea8; }\n",
       "        .json-boolean { color: #569cd6; }\n",
       "        .internal-monologue { font-style: italic; }\n",
       "    </style>\n",
       "    <div class=\"message-container\">\n",
       "    \n",
       "        <div class=\"message\">\n",
       "            <div class=\"title\">FUNCTION CALL</div>\n",
       "            <div class=\"content\"><span class=\"function-name\">run_tavilysearchresults</span>({<br>&nbsp;&nbsp;<span class=\"json-key\">\"query\"</span>: <span class=\"json-key\">\"Who founded OpenAI?\",<br>&nbsp;&nbsp;\"request_heartbeat\"</span>: <span class=\"json-boolean\">true</span><br>})</div>\n",
       "        </div>\n",
       "        \n",
       "        <div class=\"message\">\n",
       "            <div class=\"title\">FUNCTION RETURN</div>\n",
       "            <div class=\"content\">{<br>&nbsp;&nbsp;<span class=\"json-key\">\"status\"</span>: <span class=\"json-key\">\"OK\",<br>&nbsp;&nbsp;\"message\"</span>: <span class=\"json-key\">\"([{'url': 'https://observer.com/2024/07/openai-founders-career/', 'content': \\\"Elon Musk and Sam Altman served as co-chairs of OpenAI when it was founded in 2015. Michael Kovac/Getty Images for Vanity Fair. In November of 2022, the release of OpenAI's ChatGPT sparked an A\\\"}, {'url': 'https://openai.com/our-structure/', 'content': 'We founded the OpenAI Nonprofit in late 2015 with the goal of building safe and beneficial artificial general intelligence for the benefit of humanity. A project like this might previously have been the provenance of one or multiple governments—a humanity-scale endeavor pursuing broad benefit for humankind.'}, {'url': 'https://www.britannica.com/biography/Sam-Altman', 'content': 'In 2019 Altman compared the work of OpenAI to the Manhattan Project, which developed the first atomic bomb, telling The New York Times that the Manhattan Project had been “on the scale of OpenAI—the level of ambition we aspire to.” At the heart of the founding of OpenAI was the recognition of the power of artificial intelligence and the question of how that power would be used. Would Altman’s vision lead to a world in which AI could do things beyond the imaginings of many in the early 2020s, or would it unleash capacity that could be used to the detriment of humanity? By the time Altman stepped down as president in 2019, Y Combinator had helped about 1,900 companies, among them the room-rental service Airbnb, the delivery companies Instacart and DoorDash, the forum site Reddit, and the streaming platform Twitch.\\\\n “Growing up gay in the Midwest in the 2000s was not the most awesome thing,” he said in a New Yorker interview in 2016.\\\\n'}, {'url': 'https://indianexpress.com/article/explained/explained-global/history-openai-sam-altman-9035175/', 'content': 'Therefore, in 2019, “OpenAI ‘transitioned’ into two organisations: a ‘capped-profit’ organisation called OpenAI Global LLC (in which the return on any investment was capped at 100 times the original amount); and OpenAI Inc, the non-profit sole controlling shareholder in OpenAI Global LLC,” wrote John Naughton, an Irish academic, journalist and author, in his recent article published by The Guardian.\\\\n The announcement came just hours after OpenAI’s board of directors said Altman would not be returning to his job and Emmett Shear, the former chief executive of Twitch, will replace Mira Murati as interim chief executive of the OpenAI.\\\\n According to a media report, members like Ilya Sutskever, an AI researcher and one of the co-founders of OpenAI, were increasingly worried about the potential dangers that the company’s technology posed to society. Sutskever banded together with other board members including Adam D’Angelo (CEO of Q&amp;A forum Quora), Tasha McCauley (entrepreneur), and Helen Toner (an AI safety researcher at Georgetown University) and sacked Altman, who was also on the board but didn’t have the majority to overturn the decision. The following weeks only increased the interest in ChatGPT... [NOTE: function output was truncated since it exceeded the character limit (14521 &gt; 3000)]\",<br>&nbsp;&nbsp;\"time\"</span>: <span class=\"json-string\">\"2024-12-10 03:59:47 PM UTC+0000\"</span><br>}</div>\n",
       "        </div>\n",
       "        \n",
       "        <div class=\"message\">\n",
       "            <div class=\"title\">INTERNAL MONOLOGUE</div>\n",
       "            <div class=\"content\"><span class=\"internal-monologue\">Search results indicate OpenAI was founded by Elon Musk and Sam Altman in 2015. Extraordinary minds working together to create safe and beneficial artificial intelligence for the world. Let&#x27;s compose a response for Sarah.</span></div>\n",
       "        </div>\n",
       "        \n",
       "        <div class=\"message\">\n",
       "            <div class=\"title\">FUNCTION CALL</div>\n",
       "            <div class=\"content\"><span class=\"function-name\">send_message</span>({<br>&nbsp;&nbsp;<span class=\"json-key\">\"message\"</span>: <span class=\"json-string\">\"OpenAI was co-founded by Elon Musk and Sam Altman in 2015.\\n\\nSources:\\n[1] https://observer.com/2024/07/openai-founders-career/\\n[2] https://openai.com/our-structure/\"</span><br>})</div>\n",
       "        </div>\n",
       "        </div>"
      ],
      "text/plain": [
       "<IPython.core.display.HTML object>"
      ]
     },
     "metadata": {},
     "output_type": "display_data"
    }
   ],
   "source": [
    "response = client.send_message(\n",
    "    agent_id=agent_state.id, \n",
    "    message = \"Who founded OpenAI? \", \n",
    "    role = \"user\"\n",
    ") \n",
    "nb_print(response.messages)"
   ]
  },
  {
   "cell_type": "code",
   "execution_count": 24,
   "id": "abce960f-aaad-459c-82fc-c0c0e50543c1",
   "metadata": {
    "height": 217
   },
   "outputs": [],
   "source": [
    "from letta.schemas.llm_config import LLMConfig\n",
    "\n",
    "agent_state = client.create_agent(\n",
    "    name=\"gpt4_search_agent\", \n",
    "    tools=[search_tool.name], \n",
    "    memory=ChatMemory(\n",
    "        human=\"My name is Sarah\", \n",
    "        persona=research_agent_persona\n",
    "    ),\n",
    "    #llm_config=LLMConfig.default_config('gpt-4')  # uncomment if you are not getting desired results. Note that this is much more expensive than gpt-4o-mini\n",
    "    llm_config=LLMConfig.default_config('gpt-4o-mini')\n",
    ")"
   ]
  },
  {
   "cell_type": "code",
   "execution_count": 25,
   "id": "93f066b8-77dc-4fcf-8c2c-f280338d8e75",
   "metadata": {
    "height": 115
   },
   "outputs": [
    {
     "name": "stdout",
     "output_type": "stream",
     "text": [
      "Warning: function return was over limit (18282 > 3000) and was truncated\n"
     ]
    },
    {
     "data": {
      "text/html": [
       "\n",
       "    <style>\n",
       "        .message-container {\n",
       "            font-family: 'Segoe UI', Tahoma, Geneva, Verdana, sans-serif;\n",
       "            max-width: 800px;\n",
       "            margin: 20px auto;\n",
       "            background-color: #1e1e1e;\n",
       "            border-radius: 8px;\n",
       "            overflow: hidden;\n",
       "            color: #d4d4d4;\n",
       "        }\n",
       "        .message {\n",
       "            padding: 10px 15px;\n",
       "            border-bottom: 1px solid #3a3a3a;\n",
       "        }\n",
       "        .message:last-child {\n",
       "            border-bottom: none;\n",
       "        }\n",
       "        .title {\n",
       "            font-weight: bold;\n",
       "            margin-bottom: 5px;\n",
       "            color: #ffffff;\n",
       "            text-transform: uppercase;\n",
       "            font-size: 0.9em;\n",
       "        }\n",
       "        .content {\n",
       "            background-color: #2d2d2d;\n",
       "            border-radius: 4px;\n",
       "            padding: 5px 10px;\n",
       "            font-family: 'Consolas', 'Courier New', monospace;\n",
       "            white-space: pre-wrap;\n",
       "        }\n",
       "        .status-line {\n",
       "            margin-bottom: 5px;\n",
       "            color: #d4d4d4;\n",
       "        }\n",
       "        .function-name { color: #569cd6; }\n",
       "        .json-key { color: #9cdcfe; }\n",
       "        .json-string { color: #ce9178; }\n",
       "        .json-number { color: #b5cea8; }\n",
       "        .json-boolean { color: #569cd6; }\n",
       "        .internal-monologue { font-style: italic; }\n",
       "    </style>\n",
       "    <div class=\"message-container\">\n",
       "    \n",
       "        <div class=\"message\">\n",
       "            <div class=\"title\">INTERNAL MONOLOGUE</div>\n",
       "            <div class=\"content\"><span class=\"internal-monologue\">Quick search for OpenAI&#x27;s founders. Want to provide accurate information.</span></div>\n",
       "        </div>\n",
       "        \n",
       "        <div class=\"message\">\n",
       "            <div class=\"title\">FUNCTION CALL</div>\n",
       "            <div class=\"content\"><span class=\"function-name\">run_tavilysearchresults</span>({<br>&nbsp;&nbsp;<span class=\"json-key\">\"query\"</span>: <span class=\"json-key\">\"Who founded OpenAI?\",<br>&nbsp;&nbsp;\"request_heartbeat\"</span>: <span class=\"json-boolean\">true</span><br>})</div>\n",
       "        </div>\n",
       "        \n",
       "        <div class=\"message\">\n",
       "            <div class=\"title\">FUNCTION RETURN</div>\n",
       "            <div class=\"content\">{<br>&nbsp;&nbsp;<span class=\"json-key\">\"status\"</span>: <span class=\"json-key\">\"OK\",<br>&nbsp;&nbsp;\"message\"</span>: <span class=\"json-key\">\"([{'url': 'https://observer.com/2024/07/openai-founders-career/', 'content': \\\"Elon Musk and Sam Altman served as co-chairs of OpenAI when it was founded in 2015. Michael Kovac/Getty Images for Vanity Fair. In November of 2022, the release of OpenAI's ChatGPT sparked an A\\\"}, {'url': 'https://fortune.com/longform/chatgpt-openai-sam-altman-microsoft/', 'content': 'The inside story of ChatGPT: How OpenAI founder Sam Altman built the world’s hottest technology with billions from Microsoft\\\\nA few times in a generation, a product comes along that catapults a technology from the fluorescent gloom of engineering department basements, the fetid teenage bedrooms of nerds, and the lonely man caves of hobbyists—into something that your great-aunt Edna knows how to use. The amount of safety work we are doing keeps increasing.”\\\\n“The amount of safety work we are doing keeps increasing.”\\\\nCritics, however, say OpenAI’s product-oriented approach to advanced A.I. is irresponsible, the equivalent of giving people loaded guns on the grounds that it is the best way to determine if they will actually shoot one another.\\\\n According to documents seen by Fortune, on completion of its new investment and after OpenAI’s first investors earn back their initial capital, Microsoft will be entitled to 75% of OpenAI’s profits until it earns back the $13\\\\xa0billion it has invested—a figure that includes an earlier $2\\\\xa0billion investment in OpenAI that had not been previously disclosed until Fortune reported it in January. , McCauley is a supporter of Effective Altruism, the philosophical movement that has as one of its preoccupations the dangers of superintelligent A.I.\\\\nAdam D’AngeloAn early Facebook executive—he was chief technology officer during some of its boom years in the late 2000s—D’Angelo went on to cofound the online question-answering service Quora.\\\\n He left the board in 2018, saying at one point that he faced conflicts of interest as Tesla began developing its own advanced A.I.\\\\nVenture capital muscle\\\\nIn 2021, OpenAI sold existing shares of the business in a tender\\\\xa0offer that valued the startup at about $14\\\\xa0billion—and brought three heavy-hitting VC firms into its orbit.'}, {'url': 'https://atouchofbusiness.com/companies/openai/', 'content': '~\\\\nKey Points and Facts About OpenAI\\\\nOpenAI: A Journey Through Innovation and Change\\\\nFoundation and Early Days\\\\nGrowing and Shifting\\\\nLeadership Shuffles\\\\nCorporate Twists\\\\nEarly Achievements and Developments\\\\nPartnerships and New Horizons\\\\nRapid Growth and Industry Influence\\\\nEvolving Leadership and Strategy\\\\nPartnerships and AI Breakthroughs\\\\nMusk’s Continued Interest and Criticisms\\\\nBoard Dynamics and Personal Motivations\\\\n~\\\\nOpenAI\\\\n2015: A Year of Big Moves\\\\nThroughout the Years\\\\n~\\\\nOpenAI: Lessons for the Tech-Savvy Generation\\\\nDream Big, Start Small\\\\nInnovation Requires Investment\\\\nAdaptability is Key\\\\nEthics and Responsibility in Tech\\\\nLeadership and Vision are Crucial\\\\n~\\\\nQuestions and Answers about OpenAI\\\\n... [NOTE: function output was truncated since it exceeded the character limit (18282 &gt; 3000)]\",<br>&nbsp;&nbsp;\"time\"</span>: <span class=\"json-string\">\"2024-12-10 04:00:00 PM UTC+0000\"</span><br>}</div>\n",
       "        </div>\n",
       "        \n",
       "        <div class=\"message\">\n",
       "            <div class=\"title\">INTERNAL MONOLOGUE</div>\n",
       "            <div class=\"content\"><span class=\"internal-monologue\">Shared information about OpenAI&#x27;s founders. Ready for the next question!</span></div>\n",
       "        </div>\n",
       "        \n",
       "        <div class=\"message\">\n",
       "            <div class=\"title\">FUNCTION CALL</div>\n",
       "            <div class=\"content\"><span class=\"function-name\">send_message</span>({<br>&nbsp;&nbsp;<span class=\"json-key\">\"message\"</span>: <span class=\"json-string\">\"OpenAI was founded in December 2015 by Elon Musk and Sam Altman, who served as co-chairs. Other co-founders include Greg Brockman, Ilya Sutskever, John Schulman, and Wojciech Zaremba.&nbsp;&nbsp;\\n\\nSources:&nbsp;&nbsp;\\n[1] https://observer.com/2024/07/openai-founders-career/&nbsp;&nbsp;\\n[2] https://fortune.com/longform/chatgpt-openai-sam-altman-microsoft/\"</span><br>})</div>\n",
       "        </div>\n",
       "        </div>"
      ],
      "text/plain": [
       "<IPython.core.display.HTML object>"
      ]
     },
     "metadata": {},
     "output_type": "display_data"
    }
   ],
   "source": [
    "response = client.send_message(\n",
    "    agent_id=agent_state.id, \n",
    "    message = \"Who founded OpenAI? \", \n",
    "    role = \"user\"\n",
    ") \n",
    "nb_print(response.messages)"
   ]
  },
  {
   "cell_type": "code",
   "execution_count": null,
   "id": "ea45a1b3-1eef-4bc0-8f3f-1db7405e5149",
   "metadata": {
    "height": 30
   },
   "outputs": [],
   "source": []
  },
  {
   "cell_type": "code",
   "execution_count": null,
   "id": "dde40389-ec30-4d7d-8e7c-54a70f82644a",
   "metadata": {
    "height": 30
   },
   "outputs": [],
   "source": []
  },
  {
   "cell_type": "code",
   "execution_count": null,
   "id": "d452213f-b977-4a88-ba56-726216a9d218",
   "metadata": {
    "height": 30
   },
   "outputs": [],
   "source": []
  },
  {
   "cell_type": "code",
   "execution_count": null,
   "id": "720530e8-59c3-44dd-be04-21c7571e97ed",
   "metadata": {
    "height": 30
   },
   "outputs": [],
   "source": []
  }
 ],
 "metadata": {
  "kernelspec": {
   "display_name": "Python 3 (ipykernel)",
   "language": "python",
   "name": "python3"
  },
  "language_info": {
   "codemirror_mode": {
    "name": "ipython",
    "version": 3
   },
   "file_extension": ".py",
   "mimetype": "text/x-python",
   "name": "python",
   "nbconvert_exporter": "python",
   "pygments_lexer": "ipython3",
   "version": "3.11.9"
  }
 },
 "nbformat": 4,
 "nbformat_minor": 5
}
